{
  "cells": [
    {
      "cell_type": "markdown",
      "metadata": {
        "id": "view-in-github",
        "colab_type": "text"
      },
      "source": [
        "<a href=\"https://colab.research.google.com/github/tolerant-code/New-York-Data-Trafic-Analysis/blob/main/datascience_assignment_final.ipynb\" target=\"_parent\"><img src=\"https://colab.research.google.com/assets/colab-badge.svg\" alt=\"Open In Colab\"/></a>"
      ]
    },
    {
      "cell_type": "markdown",
      "id": "036320e3",
      "metadata": {
        "id": "036320e3"
      },
      "source": [
        "# **<h1 align = \"center\"> Introduction to Data Science and AI Assignment on Data Visualization</h1>**\n",
        "\n",
        "<h1 align = \"center\">Chalachew Mulu     :     tolerantfull@gmail.com</h1>"
      ]
    },
    {
      "cell_type": "markdown",
      "id": "25559121",
      "metadata": {
        "id": "25559121"
      },
      "source": [
        "<h3>Advantage of data Visualization</h3>\n",
        " <br>\n",
        " <ul>\n",
        "    <li>Simplifies complex quantitative informations</li>\n",
        "    <li>Analyze and explore  complex quantitative informations</li>\n",
        "    <li>Identifies the areas for Improvement</li>\n",
        "    <li>Identifies the relation ship between datapoints and variables</li>\n",
        "    <li>Explore new patterns and reveals hidden patterns</li>\n",
        "  \n",
        "</ul>\n",
        "  <br>\n",
        "<dl>\n",
        "    <dt style=\"color:red;font-family:timesNewroman\"><b><i><u>Data Visualization</u></i></b> </dt>\n",
        "  <dd>is the technique that used to present data in pictorial or graphical format</dd>\n",
        "   \n",
        "</dl>"
      ]
    },
    {
      "cell_type": "markdown",
      "id": "ea37fad0",
      "metadata": {
        "id": "ea37fad0"
      },
      "source": [
        "<h3>Things shoulld be considered by data analaysts while visualizing the data</h3>\n",
        " <br>\n",
        " <ul>\n",
        "    <li>Clarity: ensure the dataset is complete and relevant</li>\n",
        "    <li> Accuracy : ensure that using appropriate representation to convey the right meaning</li>\n",
        "    <li>Efficiency: use Efficient visualization techniques while highlighting all the data points</li>\n",
        "    <li>Identifies the relation ship between datapoints and variables</li>\n",
        "   \n",
        "</ul>\n",
        "  <br>\n",
        "\n",
        "</dl>"
      ]
    },
    {
      "cell_type": "markdown",
      "id": "481634e6",
      "metadata": {
        "id": "481634e6"
      },
      "source": [
        "## steps to create plot in visualization\n",
        " <ol>\n",
        "    <li>Importing the necessary package that are useful for the effective representation</li>\n",
        "    <li>Define or Import the Dataset</li>\n",
        "    <li>Set the Plot parameters</li>\n",
        "    <li>Display the ploted chart</li>\n",
        "   \n",
        "</ol>"
      ]
    },
    {
      "cell_type": "markdown",
      "id": "d7260c95",
      "metadata": {
        "id": "d7260c95"
      },
      "source": [
        "This assignment is to practice creating a bar graph grid using the tool such as MatPlotLib with a\n",
        "traffic accident data from year 2012 to 2019. The files we provide are the data _les (Traffic\n",
        "accident.csv) of eight years and a correspondence table for mapping codes to certain fields (Traffic\n",
        "accident chart.csv). In the data file, there are fifteen attributes, including Year, Month, Day, Hour,\n",
        "Minute, Processing class, death toll, In- juries Person, Vehicle type, Sex, Age, Weather, Speed\n",
        "limit, Road pattern, Accident location. With the data _les and table, your homework should be\n",
        "done according to the following requirements:\n",
        " There are six main topics to be shown in each year:\n",
        "1. Number of traffic accident death toll per month\n",
        "2. Number of traffic accident injuries per month\n",
        "3. Number of traffic accident injuries per vehicle type (take the top 10)\n",
        "4. Number of traffic accident injuries per weather\n",
        "5. Number of traffic accident injuries per road pattern (take the top 10)\n",
        "6. Number of traffic accident injuries per accident location (take the top 10)\n",
        "\n",
        "Each topic will be presented by a bar chart.\n",
        "\n",
        "For each year, use bar graph grid to show the six topics. Thus, there will be eight grids for years\n",
        "and each grid has six bar charts for each topic.\n",
        "\n",
        "On the other hand, please produce the grids for the six topics respectively. Each grid will\n",
        "have eight bar charts for the eight years.\n",
        "\n",
        "Please do not forget, in each chart, to have the topic on the top and label the x-axis and y-axis."
      ]
    },
    {
      "cell_type": "markdown",
      "id": "5187034c",
      "metadata": {
        "id": "5187034c"
      },
      "source": [
        "# So now let us dive to the implementation part"
      ]
    },
    {
      "cell_type": "code",
      "execution_count": null,
      "id": "7c1a284c",
      "metadata": {
        "id": "7c1a284c"
      },
      "outputs": [],
      "source": [
        "#import requiered liberaries\n",
        "import numpy as np # linear algebra\n",
        "import pandas as pd # data processing, CSV file I/O (e.g. pd.read_csv)\n",
        "import os\n"
      ]
    },
    {
      "cell_type": "code",
      "execution_count": null,
      "id": "965eee92",
      "metadata": {
        "id": "965eee92"
      },
      "outputs": [],
      "source": [
        "#checking the dataset that We have\n",
        "for dirname, _, filenames in os.walk('Dataset1'):\n",
        "    for filename in filenames:\n",
        "        print(os.path.join(dirname, filename))\n"
      ]
    },
    {
      "cell_type": "code",
      "execution_count": null,
      "id": "02543d6d",
      "metadata": {
        "id": "02543d6d"
      },
      "outputs": [],
      "source": [
        "#importing the dataset that we want t visualize\n",
        "data=pd.read_csv('Dataset/101Traffic_accident.csv')"
      ]
    },
    {
      "cell_type": "code",
      "execution_count": null,
      "id": "4ac82d1b",
      "metadata": {
        "id": "4ac82d1b",
        "outputId": "da0569b9-8c7c-4042-d116-3bfa6324fdf7"
      },
      "outputs": [
        {
          "data": {
            "text/html": [
              "<div>\n",
              "<style scoped>\n",
              "    .dataframe tbody tr th:only-of-type {\n",
              "        vertical-align: middle;\n",
              "    }\n",
              "\n",
              "    .dataframe tbody tr th {\n",
              "        vertical-align: top;\n",
              "    }\n",
              "\n",
              "    .dataframe thead th {\n",
              "        text-align: right;\n",
              "    }\n",
              "</style>\n",
              "<table border=\"1\" class=\"dataframe\">\n",
              "  <thead>\n",
              "    <tr style=\"text-align: right;\">\n",
              "      <th></th>\n",
              "      <th>Year</th>\n",
              "      <th>Month</th>\n",
              "      <th>Day</th>\n",
              "      <th>Hour</th>\n",
              "      <th>Minute</th>\n",
              "      <th>Processing_class</th>\n",
              "      <th>death_toll</th>\n",
              "      <th>Injuries_Person</th>\n",
              "      <th>Vehicle_type</th>\n",
              "      <th>Sex</th>\n",
              "      <th>Age</th>\n",
              "      <th>Weather</th>\n",
              "      <th>Speed_limit</th>\n",
              "      <th>Road_pattern</th>\n",
              "      <th>Accident_location</th>\n",
              "    </tr>\n",
              "  </thead>\n",
              "  <tbody>\n",
              "    <tr>\n",
              "      <th>0</th>\n",
              "      <td>2012</td>\n",
              "      <td>10</td>\n",
              "      <td>3</td>\n",
              "      <td>10</td>\n",
              "      <td>40</td>\n",
              "      <td>2</td>\n",
              "      <td>0</td>\n",
              "      <td>1</td>\n",
              "      <td>B03</td>\n",
              "      <td>1</td>\n",
              "      <td>30.0</td>\n",
              "      <td>8.0</td>\n",
              "      <td>0</td>\n",
              "      <td>4.0</td>\n",
              "      <td>2.0</td>\n",
              "    </tr>\n",
              "    <tr>\n",
              "      <th>1</th>\n",
              "      <td>2012</td>\n",
              "      <td>10</td>\n",
              "      <td>3</td>\n",
              "      <td>10</td>\n",
              "      <td>40</td>\n",
              "      <td>2</td>\n",
              "      <td>0</td>\n",
              "      <td>1</td>\n",
              "      <td>C03</td>\n",
              "      <td>1</td>\n",
              "      <td>23.0</td>\n",
              "      <td>8.0</td>\n",
              "      <td>0</td>\n",
              "      <td>4.0</td>\n",
              "      <td>2.0</td>\n",
              "    </tr>\n",
              "    <tr>\n",
              "      <th>2</th>\n",
              "      <td>2012</td>\n",
              "      <td>1</td>\n",
              "      <td>29</td>\n",
              "      <td>12</td>\n",
              "      <td>30</td>\n",
              "      <td>2</td>\n",
              "      <td>0</td>\n",
              "      <td>2</td>\n",
              "      <td>C03</td>\n",
              "      <td>1</td>\n",
              "      <td>73.0</td>\n",
              "      <td>8.0</td>\n",
              "      <td>50</td>\n",
              "      <td>4.0</td>\n",
              "      <td>1.0</td>\n",
              "    </tr>\n",
              "    <tr>\n",
              "      <th>3</th>\n",
              "      <td>2012</td>\n",
              "      <td>1</td>\n",
              "      <td>29</td>\n",
              "      <td>12</td>\n",
              "      <td>30</td>\n",
              "      <td>2</td>\n",
              "      <td>0</td>\n",
              "      <td>2</td>\n",
              "      <td>C03</td>\n",
              "      <td>1</td>\n",
              "      <td>33.0</td>\n",
              "      <td>8.0</td>\n",
              "      <td>50</td>\n",
              "      <td>4.0</td>\n",
              "      <td>1.0</td>\n",
              "    </tr>\n",
              "    <tr>\n",
              "      <th>4</th>\n",
              "      <td>2012</td>\n",
              "      <td>2</td>\n",
              "      <td>2</td>\n",
              "      <td>23</td>\n",
              "      <td>50</td>\n",
              "      <td>2</td>\n",
              "      <td>0</td>\n",
              "      <td>1</td>\n",
              "      <td>B03</td>\n",
              "      <td>1</td>\n",
              "      <td>20.0</td>\n",
              "      <td>7.0</td>\n",
              "      <td>50</td>\n",
              "      <td>4.0</td>\n",
              "      <td>1.0</td>\n",
              "    </tr>\n",
              "  </tbody>\n",
              "</table>\n",
              "</div>"
            ],
            "text/plain": [
              "   Year  Month  Day  Hour  Minute  Processing_class  death_toll  \\\n",
              "0  2012     10    3    10      40                 2           0   \n",
              "1  2012     10    3    10      40                 2           0   \n",
              "2  2012      1   29    12      30                 2           0   \n",
              "3  2012      1   29    12      30                 2           0   \n",
              "4  2012      2    2    23      50                 2           0   \n",
              "\n",
              "   Injuries_Person Vehicle_type  Sex   Age  Weather  Speed_limit  \\\n",
              "0                1          B03    1  30.0      8.0            0   \n",
              "1                1          C03    1  23.0      8.0            0   \n",
              "2                2          C03    1  73.0      8.0           50   \n",
              "3                2          C03    1  33.0      8.0           50   \n",
              "4                1          B03    1  20.0      7.0           50   \n",
              "\n",
              "   Road_pattern  Accident_location  \n",
              "0           4.0                2.0  \n",
              "1           4.0                2.0  \n",
              "2           4.0                1.0  \n",
              "3           4.0                1.0  \n",
              "4           4.0                1.0  "
            ]
          },
          "execution_count": 11,
          "metadata": {},
          "output_type": "execute_result"
        }
      ],
      "source": [
        "data.head()"
      ]
    },
    {
      "cell_type": "code",
      "execution_count": null,
      "id": "f1974fba",
      "metadata": {
        "id": "f1974fba",
        "outputId": "01083db8-0e67-486e-b87b-029ccd0c11b6"
      },
      "outputs": [
        {
          "name": "stdout",
          "output_type": "stream",
          "text": [
            "<class 'pandas.core.frame.DataFrame'>\n",
            "RangeIndex: 45950 entries, 0 to 45949\n",
            "Data columns (total 15 columns):\n",
            " #   Column             Non-Null Count  Dtype  \n",
            "---  ------             --------------  -----  \n",
            " 0   Year               45950 non-null  int64  \n",
            " 1   Month              45950 non-null  int64  \n",
            " 2   Day                45950 non-null  int64  \n",
            " 3   Hour               45950 non-null  int64  \n",
            " 4   Minute             45950 non-null  int64  \n",
            " 5   Processing_class   45950 non-null  int64  \n",
            " 6   death_toll         45950 non-null  int64  \n",
            " 7   Injuries_Person    45950 non-null  int64  \n",
            " 8   Vehicle_type       45029 non-null  object \n",
            " 9   Sex                45950 non-null  int64  \n",
            " 10  Age                43049 non-null  float64\n",
            " 11  Weather            45785 non-null  float64\n",
            " 12  Speed_limit        45950 non-null  int64  \n",
            " 13  Road_pattern       45785 non-null  float64\n",
            " 14  Accident_location  45785 non-null  float64\n",
            "dtypes: float64(4), int64(10), object(1)\n",
            "memory usage: 5.3+ MB\n"
          ]
        }
      ],
      "source": [
        "data.info()"
      ]
    },
    {
      "cell_type": "code",
      "execution_count": null,
      "id": "ae50b6c5",
      "metadata": {
        "id": "ae50b6c5"
      },
      "outputs": [],
      "source": [
        "from sklearn import preprocessing\n",
        "#x_array = np.array(data)\n",
        "#normalized_arr = preprocessing.normalize([x_array])\n",
        "#print(normalized_arr)"
      ]
    },
    {
      "cell_type": "code",
      "execution_count": null,
      "id": "20214214",
      "metadata": {
        "id": "20214214",
        "outputId": "2d784ba4-7775-483f-ad5d-7933094bf3d8"
      },
      "outputs": [
        {
          "data": {
            "text/plain": [
              "(45950, 15)"
            ]
          },
          "execution_count": 7,
          "metadata": {},
          "output_type": "execute_result"
        }
      ],
      "source": [
        "data.shape"
      ]
    },
    {
      "cell_type": "markdown",
      "id": "b8e1f99b",
      "metadata": {
        "id": "b8e1f99b"
      },
      "source": [
        "# Number of traffic accident death toll per month"
      ]
    },
    {
      "cell_type": "code",
      "execution_count": null,
      "id": "17e35293",
      "metadata": {
        "id": "17e35293",
        "outputId": "ea910a8d-9fcf-4e04-d50b-a41293e8481d"
      },
      "outputs": [
        {
          "data": {
            "image/png": "[encoded data removed]",
            "text/plain": [
              "<Figure size 504x432 with 1 Axes>"
            ]
          },
          "metadata": {
            "needs_background": "light"
          },
          "output_type": "display_data"
        }
      ],
      "source": [
        "\n",
        "import seaborn as sns\n",
        "import matplotlib.pyplot as plt\n",
        "ax,fig= plt.subplots(figsize=(7, 6))\n",
        "plt.bar(x=data[\"Month\"], height=data[\"death_toll\"])\n",
        "\n",
        "# add grid lines\n",
        "plt.grid(color='green', linestyle=':', linewidth=1.0, axis='y', alpha=0.5)\n",
        "\n",
        "plt.ylabel('Death_Toll')  # labling y-axis\n",
        "plt.xlabel('Month')           # labling x-axis\n",
        "plt.title('No of  death toll per month')\n",
        "\n",
        "plt.show()\n"
      ]
    },
    {
      "cell_type": "code",
      "execution_count": null,
      "id": "9b154258",
      "metadata": {
        "id": "9b154258",
        "outputId": "b8638a22-da72-4fd1-f4ad-f223129d57e3"
      },
      "outputs": [
        {
          "data": {
            "image/png": "[encoded data removed]",
            "text/plain": [
              "<Figure size 504x432 with 1 Axes>"
            ]
          },
          "metadata": {
            "needs_background": "light"
          },
          "output_type": "display_data"
        }
      ],
      "source": [
        "\n",
        "import seaborn as sns\n",
        "import matplotlib.pyplot as plt\n",
        "ax,fig= plt.subplots(figsize=(7, 6))\n",
        "plt.bar(x=data[\"Month\"].count(), height=data[\"death_toll\"].count())\n",
        "\n",
        "# add grid lines\n",
        "plt.grid(color='green', linestyle=':', linewidth=1.0, axis='y', alpha=0.5)\n",
        "\n",
        "plt.ylabel('Death_Toll')  # labling y-axis\n",
        "plt.xlabel('Month')           # labling x-axis\n",
        "plt.title('No of  death toll per month')\n",
        "\n",
        "plt.show()"
      ]
    },
    {
      "cell_type": "markdown",
      "id": "9b274009",
      "metadata": {
        "id": "9b274009"
      },
      "source": [
        "# Number of traffic accident injuries per month"
      ]
    },
    {
      "cell_type": "code",
      "execution_count": null,
      "id": "d1571376",
      "metadata": {
        "id": "d1571376",
        "outputId": "c76dcfc0-175d-42ac-97fc-c898f3ef4629"
      },
      "outputs": [
        {
          "data": {
            "image/png": "[encoded data removed]",
            "text/plain": [
              "<Figure size 640x480 with 1 Axes>"
            ]
          },
          "metadata": {},
          "output_type": "display_data"
        }
      ],
      "source": [
        "# Count the number of accidents in each state\n",
        "# Get the number of accidents for each state\n",
        "import seaborn as sns\n",
        "import matplotlib.pyplot as plt\n",
        "ax=sns.barplot(x=data[\"Month\"], y=data[\"Injuries_Person\"])\n",
        "#ax.set(xlabel='Month', ylabel='Injuries Person')"
      ]
    },
    {
      "cell_type": "markdown",
      "id": "7aa97c53",
      "metadata": {
        "id": "7aa97c53"
      },
      "source": [
        "# Number of traffic accident injuries per vehicle type (take the top 10)"
      ]
    },
    {
      "cell_type": "code",
      "execution_count": null,
      "id": "53c71bfa",
      "metadata": {
        "id": "53c71bfa",
        "outputId": "74e1e47a-f8e8-4485-f6c1-920e1db5bb89"
      },
      "outputs": [
        {
          "data": {
            "text/plain": [
              "[Text(0.5, 0, 'No. of accidents'), Text(0, 0.5, 'Vehicle Type')]"
            ]
          },
          "execution_count": 17,
          "metadata": {},
          "output_type": "execute_result"
        },
        {
          "data": {
            "image/png": "[encoded data removed]",
            "text/plain": [
              "<Figure size 640x480 with 1 Axes>"
            ]
          },
          "metadata": {},
          "output_type": "display_data"
        }
      ],
      "source": [
        "CA_cities=data.loc[data['Month']==4][['Injuries_Person','Vehicle_type']]\n",
        "cities_count=CA_cities.groupby('Vehicle_type')['Injuries_Person'].count().reset_index().sort_values(by = \"Injuries_Person\",ascending=False)\n",
        "cities_count=cities_count[:10]\n",
        "sns.set()\n",
        "ax=sns.barplot(y=\"Vehicle_type\", x='Injuries_Person', data=cities_count)\n",
        "ax.set(xlabel='No. of accidents', ylabel='Vehicle Type')"
      ]
    },
    {
      "cell_type": "markdown",
      "id": "99d7edff",
      "metadata": {
        "id": "99d7edff"
      },
      "source": [
        "# Number of traffic accident injuries per weather"
      ]
    },
    {
      "cell_type": "code",
      "execution_count": null,
      "id": "2ff6723c",
      "metadata": {
        "id": "2ff6723c",
        "outputId": "61e4c681-fccb-46d4-aba1-161ebaf1acce"
      },
      "outputs": [
        {
          "data": {
            "text/plain": [
              "[Text(0.5, 0, 'Weather'), Text(0, 0.5, 'Injuries_Person')]"
            ]
          },
          "execution_count": 18,
          "metadata": {},
          "output_type": "execute_result"
        },
        {
          "data": {
            "image/png": "[encoded data removed]",
            "text/plain": [
              "<Figure size 700x600 with 1 Axes>"
            ]
          },
          "metadata": {},
          "output_type": "display_data"
        }
      ],
      "source": [
        "# Count the number of accidents in each state\n",
        "No_of_accidents_by_month=data.groupby('Weather')['Injuries_Person'].count().reset_index().sort_values(by = \"Injuries_Person\",ascending=False)\n",
        "# Get the number of accidents for each state\n",
        "import seaborn as sns\n",
        "import matplotlib.pyplot as plt\n",
        "ax,fig= plt.subplots(figsize=(7, 6))\n",
        "sns.set()\n",
        "ax=sns.barplot(y=\"Injuries_Person\", x='Weather', data=No_of_accidents_by_month)\n",
        "ax.set(xlabel='Weather', ylabel='Injuries_Person')"
      ]
    },
    {
      "cell_type": "markdown",
      "id": "8741cbb9",
      "metadata": {
        "id": "8741cbb9"
      },
      "source": [
        "# Number of traffic accident injuries per road pattern (take the top 10)\n"
      ]
    },
    {
      "cell_type": "code",
      "execution_count": null,
      "id": "30f2ba20",
      "metadata": {
        "id": "30f2ba20",
        "outputId": "8cdce5dc-5be3-4bc0-9e23-ed3435bf31db"
      },
      "outputs": [
        {
          "data": {
            "text/plain": [
              "[Text(0.5, 0, 'Road_pattern'), Text(0, 0.5, 'Injuries_Person')]"
            ]
          },
          "execution_count": 19,
          "metadata": {},
          "output_type": "execute_result"
        },
        {
          "data": {
            "image/png": "[encoded data removed]",
            "text/plain": [
              "<Figure size 700x600 with 1 Axes>"
            ]
          },
          "metadata": {},
          "output_type": "display_data"
        }
      ],
      "source": [
        "# Count the number of accidents in each state\n",
        "No_of_accidents_by_month=data.groupby('Road_pattern')['Injuries_Person'].count().reset_index().sort_values(by = \"Injuries_Person\",ascending=False)\n",
        "# Get the number of accidents for each state\n",
        "import seaborn as sns\n",
        "import matplotlib.pyplot as plt\n",
        "ax,fig= plt.subplots(figsize=(7, 6))\n",
        "sns.set()\n",
        "ax=sns.barplot(y=\"Injuries_Person\", x='Road_pattern', data=No_of_accidents_by_month)\n",
        "ax.set(xlabel='Road_pattern', ylabel='Injuries_Person')"
      ]
    },
    {
      "cell_type": "markdown",
      "id": "225c32f6",
      "metadata": {
        "id": "225c32f6"
      },
      "source": [
        "# Number of traffic accident injuries per accident location (take the top 10)"
      ]
    },
    {
      "cell_type": "code",
      "execution_count": null,
      "id": "23f1fe7f",
      "metadata": {
        "id": "23f1fe7f"
      },
      "outputs": [],
      "source": [
        "from sklearn import preprocessing\n",
        "tob=data[\"Accident_location\"]\n",
        "le = preprocessing.LabelEncoder()\n",
        "tran=le.fit(tob)\n",
        "\n",
        ""
      ]
    },
    {
      "cell_type": "markdown",
      "source": [
        "# **<h1 align = \"center\">The End<h1>**"
      ],
      "metadata": {
        "id": "RuN9ifXhza87"
      },
      "id": "RuN9ifXhza87"
    }
  ],
  "metadata": {
    "kernelspec": {
      "display_name": "Python 3 (ipykernel)",
      "language": "python",
      "name": "python3"
    },
    "language_info": {
      "codemirror_mode": {
        "name": "ipython",
        "version": 3
      },
      "file_extension": ".py",
      "mimetype": "text/x-python",
      "name": "python",
      "nbconvert_exporter": "python",
      "pygments_lexer": "ipython3",
      "version": "3.7.15"
    },
    "colab": {
      "provenance": [],
      "include_colab_link": true
    }
  },
  "nbformat": 4,
  "nbformat_minor": 5
}